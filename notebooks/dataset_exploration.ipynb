{
 "cells": [
  {
   "cell_type": "markdown",
   "id": "34dd4ce8",
   "metadata": {},
   "source": [
    "# Soil Health Dataset Exploration\n",
    "\n",
    "This notebook explores the synthetic soil health monitoring dataset that contains 5000 samples with comprehensive soil parameters, weather data, and vegetation indices."
   ]
  },
  {
   "cell_type": "code",
   "execution_count": null,
   "id": "70c58823",
   "metadata": {},
   "outputs": [],
   "source": [
    "import pandas as pd\n",
    "import numpy as np\n",
    "import matplotlib.pyplot as plt\n",
    "import seaborn as sns\n",
    "import plotly.express as px\n",
    "import plotly.graph_objects as go\n",
    "from plotly.subplots import make_subplots\n",
    "\n",
    "# Set style for better plots\n",
    "plt.style.use('seaborn-v0_8')\n",
    "sns.set_palette(\"husl\")\n",
    "\n",
    "# Load the dataset\n",
    "df = pd.read_csv('data/soil_health_dataset.csv')\n",
    "print(f\"Dataset shape: {df.shape}\")\n",
    "print(f\"Columns: {list(df.columns)}\")"
   ]
  },
  {
   "cell_type": "markdown",
   "id": "3d7e85a9",
   "metadata": {},
   "source": [
    "## Dataset Overview"
   ]
  },
  {
   "cell_type": "code",
   "execution_count": null,
   "id": "f6e7a605",
   "metadata": {},
   "outputs": [],
   "source": [
    "# Display first few rows\n",
    "display(df.head())\n",
    "\n",
    "# Dataset info\n",
    "print(\"\\nDataset Info:\")\n",
    "df.info()"
   ]
  },
  {
   "cell_type": "code",
   "execution_count": null,
   "id": "b6604112",
   "metadata": {},
   "outputs": [],
   "source": [
    "# Basic statistics\n",
    "print(\"\\nNumerical Features Summary:\")\n",
    "numerical_cols = df.select_dtypes(include=[np.number]).columns\n",
    "display(df[numerical_cols].describe())"
   ]
  },
  {
   "cell_type": "markdown",
   "id": "a718e034",
   "metadata": {},
   "source": [
    "## Data Distribution Analysis"
   ]
  },
  {
   "cell_type": "code",
   "execution_count": null,
   "id": "234607a2",
   "metadata": {},
   "outputs": [],
   "source": [
    "# Soil Health Score Distribution\n",
    "fig, axes = plt.subplots(2, 2, figsize=(15, 10))\n",
    "\n",
    "# Soil health score histogram\n",
    "axes[0,0].hist(df['soil_health_score'], bins=30, alpha=0.7, color='green')\n",
    "axes[0,0].set_title('Soil Health Score Distribution')\n",
    "axes[0,0].set_xlabel('Soil Health Score')\n",
    "axes[0,0].set_ylabel('Frequency')\n",
    "\n",
    "# Health category distribution\n",
    "health_counts = df['health_category'].value_counts()\n",
    "axes[0,1].pie(health_counts.values, labels=health_counts.index, autopct='%1.1f%%')\n",
    "axes[0,1].set_title('Health Category Distribution')\n",
    "\n",
    "# Soil type distribution\n",
    "soil_counts = df['soil_type'].value_counts()\n",
    "axes[1,0].bar(soil_counts.index, soil_counts.values, color='brown', alpha=0.7)\n",
    "axes[1,0].set_title('Soil Type Distribution')\n",
    "axes[1,0].set_xlabel('Soil Type')\n",
    "axes[1,0].set_ylabel('Count')\n",
    "axes[1,0].tick_params(axis='x', rotation=45)\n",
    "\n",
    "# Crop type distribution\n",
    "crop_counts = df['crop_type'].value_counts()\n",
    "axes[1,1].bar(crop_counts.index, crop_counts.values, color='darkgreen', alpha=0.7)\n",
    "axes[1,1].set_title('Crop Type Distribution')\n",
    "axes[1,1].set_xlabel('Crop Type')\n",
    "axes[1,1].set_ylabel('Count')\n",
    "axes[1,1].tick_params(axis='x', rotation=45)\n",
    "\n",
    "plt.tight_layout()\n",
    "plt.show()"
   ]
  },
  {
   "cell_type": "markdown",
   "id": "8b42eec7",
   "metadata": {},
   "source": [
    "## Key Soil Parameters Analysis"
   ]
  },
  {
   "cell_type": "code",
   "execution_count": null,
   "id": "ee746cf2",
   "metadata": {},
   "outputs": [],
   "source": [
    "# Key soil parameters\n",
    "fig, axes = plt.subplots(2, 3, figsize=(18, 10))\n",
    "\n",
    "# Soil moisture\n",
    "axes[0,0].hist(df['soil_moisture_percent'], bins=25, alpha=0.7, color='blue')\n",
    "axes[0,0].set_title('Soil Moisture Distribution')\n",
    "axes[0,0].set_xlabel('Moisture (%)')\n",
    "axes[0,0].set_ylabel('Frequency')\n",
    "\n",
    "# pH level\n",
    "axes[0,1].hist(df['ph_level'], bins=25, alpha=0.7, color='red')\n",
    "axes[0,1].set_title('pH Level Distribution')\n",
    "axes[0,1].set_xlabel('pH Level')\n",
    "axes[0,1].set_ylabel('Frequency')\n",
    "\n",
    "# Temperature\n",
    "axes[0,2].hist(df['soil_temperature_celsius'], bins=25, alpha=0.7, color='orange')\n",
    "axes[0,2].set_title('Soil Temperature Distribution')\n",
    "axes[0,2].set_xlabel('Temperature (°C)')\n",
    "axes[0,2].set_ylabel('Frequency')\n",
    "\n",
    "# Nitrogen\n",
    "axes[1,0].hist(df['nitrogen_ppm'], bins=25, alpha=0.7, color='green')\n",
    "axes[1,0].set_title('Nitrogen Content Distribution')\n",
    "axes[1,0].set_xlabel('Nitrogen (ppm)')\n",
    "axes[1,0].set_ylabel('Frequency')\n",
    "\n",
    "# Organic matter\n",
    "axes[1,1].hist(df['organic_matter_percent'], bins=25, alpha=0.7, color='brown')\n",
    "axes[1,1].set_title('Organic Matter Distribution')\n",
    "axes[1,1].set_xlabel('Organic Matter (%)')\n",
    "axes[1,1].set_ylabel('Frequency')\n",
    "\n",
    "# NDVI\n",
    "axes[1,2].hist(df['ndvi_vegetation_index'], bins=25, alpha=0.7, color='darkgreen')\n",
    "axes[1,2].set_title('NDVI Distribution')\n",
    "axes[1,2].set_xlabel('NDVI Index')\n",
    "axes[1,2].set_ylabel('Frequency')\n",
    "\n",
    "plt.tight_layout()\n",
    "plt.show()"
   ]
  },
  {
   "cell_type": "markdown",
   "id": "62c05aad",
   "metadata": {},
   "source": [
    "## Correlation Analysis"
   ]
  },
  {
   "cell_type": "code",
   "execution_count": null,
   "id": "21947841",
   "metadata": {},
   "outputs": [],
   "source": [
    "# Correlation matrix\n",
    "correlation_matrix = df[numerical_cols].corr()\n",
    "\n",
    "plt.figure(figsize=(14, 10))\n",
    "sns.heatmap(correlation_matrix, annot=True, cmap='coolwarm', center=0, \n",
    "            square=True, fmt='.2f', cbar_kws={'shrink': 0.8})\n",
    "plt.title('Correlation Matrix of Soil Parameters')\n",
    "plt.xticks(rotation=45, ha='right')\n",
    "plt.yticks(rotation=0)\n",
    "plt.tight_layout()\n",
    "plt.show()"
   ]
  },
  {
   "cell_type": "markdown",
   "id": "59dca048",
   "metadata": {},
   "source": [
    "## Relationships with Soil Health Score"
   ]
  },
  {
   "cell_type": "code",
   "execution_count": null,
   "id": "5e10aee3",
   "metadata": {},
   "outputs": [],
   "source": [
    "# Scatter plots showing relationship with soil health score\n",
    "fig, axes = plt.subplots(2, 3, figsize=(18, 10))\n",
    "\n",
    "# pH vs Soil Health\n",
    "axes[0,0].scatter(df['ph_level'], df['soil_health_score'], alpha=0.5, color='red')\n",
    "axes[0,0].set_xlabel('pH Level')\n",
    "axes[0,0].set_ylabel('Soil Health Score')\n",
    "axes[0,0].set_title('pH vs Soil Health Score')\n",
    "\n",
    "# Moisture vs Soil Health\n",
    "axes[0,1].scatter(df['soil_moisture_percent'], df['soil_health_score'], alpha=0.5, color='blue')\n",
    "axes[0,1].set_xlabel('Soil Moisture (%)')\n",
    "axes[0,1].set_ylabel('Soil Health Score')\n",
    "axes[0,1].set_title('Moisture vs Soil Health Score')\n",
    "\n",
    "# Organic Matter vs Soil Health\n",
    "axes[0,2].scatter(df['organic_matter_percent'], df['soil_health_score'], alpha=0.5, color='brown')\n",
    "axes[0,2].set_xlabel('Organic Matter (%)')\n",
    "axes[0,2].set_ylabel('Soil Health Score')\n",
    "axes[0,2].set_title('Organic Matter vs Soil Health Score')\n",
    "\n",
    "# Nitrogen vs Soil Health\n",
    "axes[1,0].scatter(df['nitrogen_ppm'], df['soil_health_score'], alpha=0.5, color='green')\n",
    "axes[1,0].set_xlabel('Nitrogen (ppm)')\n",
    "axes[1,0].set_ylabel('Soil Health Score')\n",
    "axes[1,0].set_title('Nitrogen vs Soil Health Score')\n",
    "\n",
    "# NDVI vs Soil Health\n",
    "axes[1,1].scatter(df['ndvi_vegetation_index'], df['soil_health_score'], alpha=0.5, color='darkgreen')\n",
    "axes[1,1].set_xlabel('NDVI Index')\n",
    "axes[1,1].set_ylabel('Soil Health Score')\n",
    "axes[1,1].set_title('NDVI vs Soil Health Score')\n",
    "\n",
    "# Electrical Conductivity vs Soil Health\n",
    "axes[1,2].scatter(df['electrical_conductivity_ds_per_m'], df['soil_health_score'], alpha=0.5, color='purple')\n",
    "axes[1,2].set_xlabel('Electrical Conductivity (dS/m)')\n",
    "axes[1,2].set_ylabel('Soil Health Score')\n",
    "axes[1,2].set_title('EC vs Soil Health Score')\n",
    "\n",
    "plt.tight_layout()\n",
    "plt.show()"
   ]
  },
  {
   "cell_type": "markdown",
   "id": "a262d45f",
   "metadata": {},
   "source": [
    "## Seasonal and Regional Analysis"
   ]
  },
  {
   "cell_type": "code",
   "execution_count": null,
   "id": "4582ee0b",
   "metadata": {},
   "outputs": [],
   "source": [
    "# Box plots for seasonal variations\n",
    "fig, axes = plt.subplots(2, 2, figsize=(15, 10))\n",
    "\n",
    "# Soil health by season\n",
    "sns.boxplot(data=df, x='season', y='soil_health_score', ax=axes[0,0])\n",
    "axes[0,0].set_title('Soil Health Score by Season')\n",
    "axes[0,0].tick_params(axis='x', rotation=45)\n",
    "\n",
    "# Soil health by region\n",
    "sns.boxplot(data=df, x='region', y='soil_health_score', ax=axes[0,1])\n",
    "axes[0,1].set_title('Soil Health Score by Region')\n",
    "axes[0,1].tick_params(axis='x', rotation=45)\n",
    "\n",
    "# Soil health by soil type\n",
    "sns.boxplot(data=df, x='soil_type', y='soil_health_score', ax=axes[1,0])\n",
    "axes[1,0].set_title('Soil Health Score by Soil Type')\n",
    "axes[1,0].tick_params(axis='x', rotation=45)\n",
    "\n",
    "# Soil health by crop type\n",
    "sns.boxplot(data=df, x='crop_type', y='soil_health_score', ax=axes[1,1])\n",
    "axes[1,1].set_title('Soil Health Score by Crop Type')\n",
    "axes[1,1].tick_params(axis='x', rotation=45)\n",
    "\n",
    "plt.tight_layout()\n",
    "plt.show()"
   ]
  },
  {
   "cell_type": "markdown",
   "id": "ee3c173e",
   "metadata": {},
   "source": [
    "## Interactive Visualizations"
   ]
  },
  {
   "cell_type": "code",
   "execution_count": null,
   "id": "75ee43de",
   "metadata": {},
   "outputs": [],
   "source": [
    "# Interactive 3D scatter plot\n",
    "fig = px.scatter_3d(df, \n",
    "                    x='ph_level', \n",
    "                    y='soil_moisture_percent', \n",
    "                    z='nitrogen_ppm',\n",
    "                    color='soil_health_score',\n",
    "                    color_continuous_scale='Viridis',\n",
    "                    title='3D Scatter Plot: pH, Moisture, Nitrogen vs Soil Health',\n",
    "                    hover_data=['soil_type', 'crop_type', 'health_category'])\n",
    "fig.show()"
   ]
  },
  {
   "cell_type": "code",
   "execution_count": null,
   "id": "25d7fb4b",
   "metadata": {},
   "outputs": [],
   "source": [
    "# Interactive correlation heatmap\n",
    "fig = px.imshow(correlation_matrix,\n",
    "                text_auto=True,\n",
    "                aspect=\"auto\",\n",
    "                title=\"Interactive Correlation Matrix\",\n",
    "                color_continuous_scale='RdBu_r')\n",
    "fig.show()"
   ]
  },
  {
   "cell_type": "markdown",
   "id": "9fd84c38",
   "metadata": {},
   "source": [
    "## Data Quality Assessment"
   ]
  },
  {
   "cell_type": "code",
   "execution_count": null,
   "id": "e15d533a",
   "metadata": {},
   "outputs": [],
   "source": [
    "# Check for missing values\n",
    "print(\"Missing Values:\")\n",
    "missing_values = df.isnull().sum()\n",
    "print(missing_values[missing_values > 0])\n",
    "\n",
    "if missing_values.sum() == 0:\n",
    "    print(\"No missing values found!\")\n",
    "\n",
    "# Check for duplicates\n",
    "print(f\"\\nDuplicate rows: {df.duplicated().sum()}\")\n",
    "\n",
    "# Data type summary\n",
    "print(\"\\nData Types:\")\n",
    "print(df.dtypes)"
   ]
  },
  {
   "cell_type": "markdown",
   "id": "6f087ab2",
   "metadata": {},
   "source": [
    "## Feature Importance Analysis"
   ]
  },
  {
   "cell_type": "code",
   "execution_count": null,
   "id": "6c41f8a7",
   "metadata": {},
   "outputs": [],
   "source": [
    "# Calculate correlation with soil health score\n",
    "correlations_with_target = df[numerical_cols].corr()['soil_health_score'].abs().sort_values(ascending=False)\n",
    "correlations_with_target = correlations_with_target.drop('soil_health_score')  # Remove self-correlation\n",
    "\n",
    "plt.figure(figsize=(10, 8))\n",
    "correlations_with_target.plot(kind='barh')\n",
    "plt.title('Feature Correlation with Soil Health Score (Absolute Values)')\n",
    "plt.xlabel('Absolute Correlation')\n",
    "plt.tight_layout()\n",
    "plt.show()\n",
    "\n",
    "print(\"Top 10 features correlated with soil health score:\")\n",
    "print(correlations_with_target.head(10))"
   ]
  },
  {
   "cell_type": "markdown",
   "id": "5913cd79",
   "metadata": {},
   "source": [
    "## Dataset Summary\n",
    "\n",
    "This comprehensive soil health dataset includes:\n",
    "\n",
    "- **5000 samples** from different agricultural fields\n",
    "- **21 features** including soil properties, weather data, and vegetation indices\n",
    "- **Multi-year data** spanning from 2023 to 2025\n",
    "- **Realistic relationships** between soil parameters and health outcomes\n",
    "- **Actionable recommendations** for soil management\n",
    "\n",
    "### Key Features:\n",
    "1. **Soil Properties**: pH, moisture, temperature, nutrients (NPK), organic matter\n",
    "2. **Physical Properties**: Bulk density, electrical conductivity\n",
    "3. **Environmental Data**: Weather conditions, rainfall, humidity\n",
    "4. **Vegetation Index**: NDVI from satellite imagery\n",
    "5. **Context**: Soil type, crop type, season, region\n",
    "6. **Target Variables**: Soil health score and category\n",
    "7. **Recommendations**: Automated suggestions for soil management\n",
    "\n",
    "This dataset is ready for machine learning model development for soil health prediction and management recommendations."
   ]
  }
 ],
 "metadata": {
  "language_info": {
   "name": "python"
  }
 },
 "nbformat": 4,
 "nbformat_minor": 5
}
